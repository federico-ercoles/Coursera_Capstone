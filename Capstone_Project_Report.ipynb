{
  "nbformat": 4,
  "nbformat_minor": 0,
  "metadata": {
    "colab": {
      "name": "Capstone-Project-Report.ipynb",
      "version": "0.3.2",
      "provenance": []
    },
    "kernelspec": {
      "name": "python3",
      "display_name": "Python 3"
    }
  },
  "cells": [
    {
      "metadata": {
        "id": "jzpfsDltWO1X",
        "colab_type": "text"
      },
      "cell_type": "markdown",
      "source": [
        "# Capstone Project: Battle of Neighborhoods"
      ]
    },
    {
      "metadata": {
        "id": "pVR7bKZPWUzs",
        "colab_type": "text"
      },
      "cell_type": "markdown",
      "source": [
        "## Introduction"
      ]
    },
    {
      "metadata": {
        "id": "-O8aIt4YWa7c",
        "colab_type": "text"
      },
      "cell_type": "markdown",
      "source": [
        "<p align='justify'>When looking for a new house, the neighborhood where it is located is a very relevant factor. The obvious reason is we want to feel safe and relaxed in our home, so the neighborhood's safety, cleanliness and peacefulness are all taken into account, but a big part is played also by what services the neighborhood has to offer, and whether or not these services align with our lifestyle.\n",
        "<br>\n",
        "For example, if I were to be a very active and sportive person, I may be interested in having gyms or parks near my house. If I had a passion for arts or literature, I may want to have libraries or museums in my neighborhood.\n",
        "<br>\n",
        "In this project, I will analize New York's neighborhoods to determine which ones are best suited for <b>a family with a baby or small child</b>, classifying them according to their venues, and use these labeled data to train a Logistic Regression model to be used to classify Toronto's neighborhoods with the same purpose.</p>"
      ]
    },
    {
      "metadata": {
        "id": "k0kBUv0dWf8z",
        "colab_type": "text"
      },
      "cell_type": "markdown",
      "source": [
        "## Data"
      ]
    },
    {
      "metadata": {
        "id": "H8R1ryWvWfuh",
        "colab_type": "text"
      },
      "cell_type": "markdown",
      "source": [
        "<p align='justify'>For this project, the purpose is determine which Toronto's neighborhoods are best for a family with a small child to live in, using a Logistic Regression model trained on New York City's neighborhoods.\n",
        "<br>\n",
        "In order to achieve that, I will use location data from Foursquare for both the neighborhoods of New York City and Toronto, extracting for each neighborhood the distribution and frequency of all different venue categories.\n",
        "<br>\n",
        "In New York City's dataset, each venue category will get assigned a category between the following:\n",
        "<ul>\n",
        "<li>not very useful: for example, Spas, Hotels, Pubs or Juice Stores;\n",
        "<li>convenient to have nearby: for example, Restaurants, and Gyms; \n",
        "<li>very useful: for example, Baby Stores, Grocery Stores, Pharmacies and Parks. \n",
        "</ul>\n",
        "The Logistic Regression model trained on these values will then use Toronto's dataset of most common venues per neighborhood to predict their suitability for a family with small children.</p>"
      ]
    },
    {
      "metadata": {
        "id": "cU7IbZi6Wqll",
        "colab_type": "text"
      },
      "cell_type": "markdown",
      "source": [
        "## Methodology"
      ]
    },
    {
      "metadata": {
        "id": "QRIqRe_N-b7J",
        "colab_type": "text"
      },
      "cell_type": "markdown",
      "source": [
        "<p align='justify'>I started my analysis by getting the necessary location data from Foursquare, i.e. the list of all venues in each neighborhood.\n",
        "<br>\n",
        "In order to be able to use this data, it needed some manipulation, with the final result of having the list of neighborhoods with a value for each venue category representing the frequency of venues of this category in the relative neighborhood. \n",
        "<br>\n",
        "At this point, having assigned each venue category to a class according to usefulness (as described in the previus section), I noted their distribution (graph below).</p>"
      ]
    },
    {
      "metadata": {
        "id": "y2MC7PCA6eCV",
        "colab_type": "text"
      },
      "cell_type": "markdown",
      "source": [
        "<img src='https://i.imgur.com/nQkRcNg.png' alt='Distribution of New York and Toronto Venues according to Classification' height=400/>"
      ]
    },
    {
      "metadata": {
        "id": "cXQT-_iE0Jx-",
        "colab_type": "text"
      },
      "cell_type": "markdown",
      "source": [
        "<p align='justify'>As you can see, the number of venues in class 0 and class 1 (\"not very useful\" and \"convenient\") is much higher than the number of venues in class 2. In order to offset this inbalance and make it so that neighborhood scores (which I decided would be the sum of the frequency values calculated earlier) are not skewed by the rarity of class 2 venues, I decided to multiply each frequency value by a coefficient to represent their relevance to my study:\n",
        "<ul>\n",
        "<li>class 0: x0.1\n",
        "<li>class 1: x1\n",
        "<li>class 2: x10\n",
        "</ul>\n",
        "This way, the score of each neighborhood is a linear combination of the frequency of venue categories in that neighborhood. Let's have a look at their distribution.</p>\n",
        "\n"
      ]
    },
    {
      "metadata": {
        "id": "M0WXWefK6dxL",
        "colab_type": "text"
      },
      "cell_type": "markdown",
      "source": [
        "<img src='https://i.imgur.com/7EGSlsK.png' alt='Distribution of New York and Toronto Neighborhood Scores ' height=400/>"
      ]
    },
    {
      "metadata": {
        "id": "Kjn5lNq42z5k",
        "colab_type": "text"
      },
      "cell_type": "markdown",
      "source": [
        "<p align='justify'>Both graphs show a right-skewed distribution of scores, with the following properties:\n",
        "<ul>\n",
        "<li>New York: mean 2.47, st.d. 1.41\n",
        "<li>Toronto: mean 2.59, st.d. 1.58\n",
        "</ul>\n",
        "With this in mind, I decided that a reasonable score threshold over which a neighborhood is considered suitable for the purposes of this study could be 2.5. The following graph shows how the neighborhoods in New York and Toronto split after applying this classification.</p>"
      ]
    },
    {
      "metadata": {
        "id": "kAGpruKYNZXd",
        "colab_type": "text"
      },
      "cell_type": "markdown",
      "source": [
        "<img src='https://i.imgur.com/U5ruDXD.png' alt='Distribution of New York and Toronto Neighborhood Suitability ' height=400/>"
      ]
    },
    {
      "metadata": {
        "id": "qLT_ITCePHVz",
        "colab_type": "text"
      },
      "cell_type": "markdown",
      "source": [
        "<p align='justify'>Now that I had a classification for the neighborhoods, I could start doing some machine learning. Since the classification value is binary and categorical, and it's the result of a linear combination of other features, I decided that the best suited ML algorithm to use was Logistic Regression. <br>\n",
        "\n",
        "First, I split New York's venues data in train and test sets with a ratio of 80:20, and performed a first training of the model on these sets, to test its accuracy. The Jaccard index of the classification predicted by this model and the actual classification was 0.83, and the following graph shows the confusion matrix highlighting the accuracy of the results.</p>"
      ]
    },
    {
      "metadata": {
        "id": "6Cl4-9KI6dog",
        "colab_type": "text"
      },
      "cell_type": "markdown",
      "source": [
        "<img src='https://i.imgur.com/Igd5q32.png' alt='Training Model Confusion Matrix ' height=400/>"
      ]
    },
    {
      "metadata": {
        "id": "QoVpNAEsWpEC",
        "colab_type": "text"
      },
      "cell_type": "markdown",
      "source": [
        "<p align='justify'>Having asserted that this training model is sufficiently accurate, I proceded to train it again on the full New York's venue data set, and finally apply it to Toronto's venue data set to predict its classification.</p>"
      ]
    },
    {
      "metadata": {
        "id": "5aW4tTwyWu_A",
        "colab_type": "text"
      },
      "cell_type": "markdown",
      "source": [
        "## Results"
      ]
    },
    {
      "metadata": {
        "id": "BxlU4zWcdNaT",
        "colab_type": "text"
      },
      "cell_type": "markdown",
      "source": [
        "<p align='justify'>The final model's performance was evaluated with the following metrics:\n",
        "<ul>\n",
        " <li>Jaccard index: 0.86\n",
        " <li>Log loss: 0.66\n",
        " <li>F1 score: 0.83\n",
        "</ul>\n",
        "and the following graph shows the confusion matrix of the accuracy of the results.</p>"
      ]
    },
    {
      "metadata": {
        "id": "KMWCU0li6ddD",
        "colab_type": "text"
      },
      "cell_type": "markdown",
      "source": [
        "<img src='https://i.imgur.com/GNiFKVY.png' alt='Final Model Confusion Matrix ' height=400/>"
      ]
    },
    {
      "metadata": {
        "id": "yd5Ky0YBfl1u",
        "colab_type": "text"
      },
      "cell_type": "markdown",
      "source": [
        "<p align='justify'>Furthermore, let's have a look at how these classifications look like on a map. Suitable neighborhoods are marked with a purple icon, while not suitable ones are marked with a red icon.\n",
        "<ul>\n",
        "  <li>New York's neighborhoods\n",
        "</ul></p>"
      ]
    },
    {
      "metadata": {
        "id": "4Yzhf3ui5zrc",
        "colab_type": "text"
      },
      "cell_type": "markdown",
      "source": [
        "<img src='https://i.imgur.com/cpfuppA.png' alt='New York Map' width=560/>"
      ]
    },
    {
      "metadata": {
        "id": "zRIg4tdoQkKr",
        "colab_type": "text"
      },
      "cell_type": "markdown",
      "source": [
        "<p align='justify'>\n",
        "<ul>\n",
        "  <li>Toronto's neighborhoods (real classification)\n",
        "</ul></p>"
      ]
    },
    {
      "metadata": {
        "id": "zlJDMmsI1qn5",
        "colab_type": "text"
      },
      "cell_type": "markdown",
      "source": [
        "<img src='https://i.imgur.com/6mJb6B9.png' alt='Toronto Map' height=400/>\n"
      ]
    },
    {
      "metadata": {
        "id": "snh5sHsSQ1Vp",
        "colab_type": "text"
      },
      "cell_type": "markdown",
      "source": [
        "<p align='justify'>\n",
        "<ul>\n",
        "  <li>Toronto's neighborhoods (predicted classification)\n",
        "</ul></p>"
      ]
    },
    {
      "metadata": {
        "id": "ECPmH8_-PHVK",
        "colab_type": "text"
      },
      "cell_type": "markdown",
      "source": [
        "<img src='https://i.imgur.com/xwNcJ1D.png' alt='Toronto Map - Predicted' height=400/>"
      ]
    },
    {
      "metadata": {
        "id": "0qZQXqcFW2bT",
        "colab_type": "text"
      },
      "cell_type": "markdown",
      "source": [
        "## Discussion"
      ]
    },
    {
      "metadata": {
        "id": "FK836eigRfPI",
        "colab_type": "text"
      },
      "cell_type": "markdown",
      "source": [
        "<p align='justify'>Unfortunately, not being familiar with either the city of New York or the city of Toronto, I am unable to offer any recommendation or get any additional insight about the results of the analysis beside what the data is showing. Instead, I will go over some observation about the process.<br><br>\n",
        "Overall, as highlighted by the metrics, the model seems pretty accurate, although the log loss value indicates that it is not very confident in its predictions.<br>\n",
        "One thing to point out about this analysis is the high level of arbitrarity: \n",
        "<ul>\n",
        "  <li>the classification of the venue categories according to usefulness, \n",
        "  <li>the coefficients used to compute the scores, \n",
        "  <li>the threshold for suitability. \n",
        "</ul>\n",
        "This third one, in particular, seems quite impactful. Let's try to see what happens when it changes.</p>"
      ]
    },
    {
      "metadata": {
        "id": "CNDzozQIIlr-",
        "colab_type": "text"
      },
      "cell_type": "markdown",
      "source": [
        "<img src='https://i.imgur.com/yRhsjqP.png' alt=\"Variation of model's accuracy against suitability threshold\" height=320/>"
      ]
    },
    {
      "metadata": {
        "id": "gui8FxzMOWLR",
        "colab_type": "text"
      },
      "cell_type": "markdown",
      "source": [
        "<p align='justify'>As you can see from the graphs above, increasing the suitability threshold has different effects on the metrics we used to evaluate the model: Jaccard index and Log loss both improve, while F1 score declines. With this into consideration, an optimal value for the threshold might be 3.5, as it benefits both Jaccard index and Log loss, while causing only a very minor drop in F1 score.</p>"
      ]
    },
    {
      "metadata": {
        "id": "1SwyLHD6W4wW",
        "colab_type": "text"
      },
      "cell_type": "markdown",
      "source": [
        "## Conclusion"
      ]
    },
    {
      "metadata": {
        "id": "ucU_xvxpW5FQ",
        "colab_type": "text"
      },
      "cell_type": "markdown",
      "source": [
        "<p align='justify'>To recap, I started this analysis with the intent of training a ML model to determine a neighborhood's suitability for a family with babies or small children to live in. I manually divided various venue categories in classes according to usefulness and used this classification to assign a score to each neighborhood, based on its offer of venues.<br>\n",
        "At this point, neighborhoods with a score over a certain threshold were determined suitable, and this categorization was used as the training set for a Logistic Regression model, which proved decently accurate, but also showed room for improvement.<br>\n",
        "I want to highlight that the results predicted by this analysis are very limited, as a greater number of factors should be involved in determining a neighborhood's suitability, such as cleanliness, quality of infrastructures, real estate's prices, etc.<br>\n",
        "With this in mind, however, I hope this study was able to help those in the situation described, by providing a different take on the matter, and the tools to evaluate their options in the search of a new home for themselves and their family.</p>"
      ]
    }
  ]
}