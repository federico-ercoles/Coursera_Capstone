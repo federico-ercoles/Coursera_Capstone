{
  "nbformat": 4,
  "nbformat_minor": 0,
  "metadata": {
    "colab": {
      "name": "W3_Assignment_1.ipynb",
      "version": "0.3.2",
      "provenance": [],
      "collapsed_sections": [
        "Ufrej3VFUmnO"
      ]
    },
    "kernelspec": {
      "name": "python3",
      "display_name": "Python 3"
    }
  },
  "cells": [
    {
      "metadata": {
        "id": "5DPDtB7DTcRk",
        "colab_type": "text"
      },
      "cell_type": "markdown",
      "source": [
        "# Segmenting and Clustering Neighborhoods in Toronto"
      ]
    },
    {
      "metadata": {
        "id": "Ufrej3VFUmnO",
        "colab_type": "text"
      },
      "cell_type": "markdown",
      "source": [
        "### Libraries"
      ]
    },
    {
      "metadata": {
        "id": "rXoCiBbBUtba",
        "colab_type": "text"
      },
      "cell_type": "markdown",
      "source": [
        "Let's import all needed libraries."
      ]
    },
    {
      "metadata": {
        "id": "iKuSkW-qTagb",
        "colab_type": "code",
        "colab": {}
      },
      "cell_type": "code",
      "source": [
        "import pandas as pd\n",
        "import requests\n",
        "from bs4 import BeautifulSoup"
      ],
      "execution_count": 0,
      "outputs": []
    },
    {
      "metadata": {
        "id": "H-lWzdWKU-wk",
        "colab_type": "text"
      },
      "cell_type": "markdown",
      "source": [
        "## 1. Step 1: Scraping"
      ]
    },
    {
      "metadata": {
        "id": "YSIqQ8472601",
        "colab_type": "text"
      },
      "cell_type": "markdown",
      "source": [
        "Let's get the raw html code from Wikipedia:"
      ]
    },
    {
      "metadata": {
        "id": "TYbKnIeCVH-G",
        "colab_type": "code",
        "colab": {}
      },
      "cell_type": "code",
      "source": [
        "wikipedia_page = 'https://en.wikipedia.org/wiki/List_of_postal_codes_of_Canada:_M'\n",
        "source = requests.get(wikipedia_page).text"
      ],
      "execution_count": 0,
      "outputs": []
    },
    {
      "metadata": {
        "id": "bZbmeTDA3N5-",
        "colab_type": "text"
      },
      "cell_type": "markdown",
      "source": [
        "And feed it to BeautifulSoup:"
      ]
    },
    {
      "metadata": {
        "id": "XaH4MAhlVjZB",
        "colab_type": "code",
        "colab": {}
      },
      "cell_type": "code",
      "source": [
        "soup = BeautifulSoup(source, 'lxml')"
      ],
      "execution_count": 0,
      "outputs": []
    },
    {
      "metadata": {
        "id": "pevSlKnV3UCZ",
        "colab_type": "text"
      },
      "cell_type": "markdown",
      "source": [
        "We find the table with the data we're looking for:"
      ]
    },
    {
      "metadata": {
        "id": "whFRSH6S3TIO",
        "colab_type": "code",
        "colab": {}
      },
      "cell_type": "code",
      "source": [
        "table = soup.find('table')"
      ],
      "execution_count": 0,
      "outputs": []
    },
    {
      "metadata": {
        "id": "cxGlCrw03c3D",
        "colab_type": "text"
      },
      "cell_type": "markdown",
      "source": [
        "And we extract said data, according to the assignment's specifications:\n",
        "\n",
        "* The dataframe needs to have three columns: PostalCode, Borough, and Neighborhood\n",
        "* We only process the cells that have an assigned borough and ignore cells with a borough that is Not assigned.\n",
        "* Neighborhoods with the same postal code will be combined into one row with the neighborhoods separated with a comma.\n",
        "* If a cell has a borough but a Not assigned neighborhood, then the neighborhood will be the same as the borough. "
      ]
    },
    {
      "metadata": {
        "id": "76bMkaGE3cMp",
        "colab_type": "code",
        "colab": {
          "base_uri": "https://localhost:8080/",
          "height": 343
        },
        "outputId": "b94e7e5b-736b-4823-9681-84b4690b7d12"
      },
      "cell_type": "code",
      "source": [
        "# initialize data list\n",
        "data = []\n",
        "\n",
        "# cycle through table rows\n",
        "for i, row in enumerate(table.find_all('tr')):\n",
        "  # extract the current row's data\n",
        "  entry = [item.text for item in row.find_all('td')]\n",
        "  # check that we extracted something and that the postal code is assigned to a borough\n",
        "  if entry and entry[1] != 'Not assigned':\n",
        "    # check if postal code is already in our list\n",
        "    if entry[0] not in [item['Postcode'] for item in data]:\n",
        "      # if not, add entry\n",
        "      data.append({'Postcode': entry[0],\n",
        "                   'Borough': entry[1],\n",
        "                   'Neighbourhood': entry[2].rstrip() if entry[2].rstrip() != 'Not assigned' else entry[1]})\n",
        "    else:\n",
        "      # if yes, find the index\n",
        "      index = [i for i, item in enumerate(data) if item['Postcode'] == entry[0]][0]\n",
        "      # and add neighborhood to existing entry\n",
        "      data[index]['Neighbourhood'] += ', '+entry[2].rstrip()\n",
        "\n",
        "# create dataframe from data list\n",
        "df = pd.DataFrame(data=data, columns=['Postcode', 'Borough', 'Neighbourhood'])\n",
        "# rename columns\n",
        "df.columns = ['PostCode', 'Borough', 'Neighborhood']\n",
        "df.head(10)"
      ],
      "execution_count": 24,
      "outputs": [
        {
          "output_type": "execute_result",
          "data": {
            "text/html": [
              "<div>\n",
              "<style scoped>\n",
              "    .dataframe tbody tr th:only-of-type {\n",
              "        vertical-align: middle;\n",
              "    }\n",
              "\n",
              "    .dataframe tbody tr th {\n",
              "        vertical-align: top;\n",
              "    }\n",
              "\n",
              "    .dataframe thead th {\n",
              "        text-align: right;\n",
              "    }\n",
              "</style>\n",
              "<table border=\"1\" class=\"dataframe\">\n",
              "  <thead>\n",
              "    <tr style=\"text-align: right;\">\n",
              "      <th></th>\n",
              "      <th>PostCode</th>\n",
              "      <th>Borough</th>\n",
              "      <th>Neighborhood</th>\n",
              "    </tr>\n",
              "  </thead>\n",
              "  <tbody>\n",
              "    <tr>\n",
              "      <th>0</th>\n",
              "      <td>M3A</td>\n",
              "      <td>North York</td>\n",
              "      <td>Parkwoods</td>\n",
              "    </tr>\n",
              "    <tr>\n",
              "      <th>1</th>\n",
              "      <td>M4A</td>\n",
              "      <td>North York</td>\n",
              "      <td>Victoria Village</td>\n",
              "    </tr>\n",
              "    <tr>\n",
              "      <th>2</th>\n",
              "      <td>M5A</td>\n",
              "      <td>Downtown Toronto</td>\n",
              "      <td>Harbourfront, Regent Park</td>\n",
              "    </tr>\n",
              "    <tr>\n",
              "      <th>3</th>\n",
              "      <td>M6A</td>\n",
              "      <td>North York</td>\n",
              "      <td>Lawrence Heights, Lawrence Manor</td>\n",
              "    </tr>\n",
              "    <tr>\n",
              "      <th>4</th>\n",
              "      <td>M7A</td>\n",
              "      <td>Queen's Park</td>\n",
              "      <td>Queen's Park</td>\n",
              "    </tr>\n",
              "    <tr>\n",
              "      <th>5</th>\n",
              "      <td>M9A</td>\n",
              "      <td>Etobicoke</td>\n",
              "      <td>Islington Avenue</td>\n",
              "    </tr>\n",
              "    <tr>\n",
              "      <th>6</th>\n",
              "      <td>M1B</td>\n",
              "      <td>Scarborough</td>\n",
              "      <td>Rouge, Malvern</td>\n",
              "    </tr>\n",
              "    <tr>\n",
              "      <th>7</th>\n",
              "      <td>M3B</td>\n",
              "      <td>North York</td>\n",
              "      <td>Don Mills North</td>\n",
              "    </tr>\n",
              "    <tr>\n",
              "      <th>8</th>\n",
              "      <td>M4B</td>\n",
              "      <td>East York</td>\n",
              "      <td>Woodbine Gardens, Parkview Hill</td>\n",
              "    </tr>\n",
              "    <tr>\n",
              "      <th>9</th>\n",
              "      <td>M5B</td>\n",
              "      <td>Downtown Toronto</td>\n",
              "      <td>Ryerson, Garden District</td>\n",
              "    </tr>\n",
              "  </tbody>\n",
              "</table>\n",
              "</div>"
            ],
            "text/plain": [
              "  PostCode           Borough                      Neighborhood\n",
              "0      M3A        North York                         Parkwoods\n",
              "1      M4A        North York                  Victoria Village\n",
              "2      M5A  Downtown Toronto         Harbourfront, Regent Park\n",
              "3      M6A        North York  Lawrence Heights, Lawrence Manor\n",
              "4      M7A      Queen's Park                      Queen's Park\n",
              "5      M9A         Etobicoke                  Islington Avenue\n",
              "6      M1B       Scarborough                    Rouge, Malvern\n",
              "7      M3B        North York                   Don Mills North\n",
              "8      M4B         East York   Woodbine Gardens, Parkview Hill\n",
              "9      M5B  Downtown Toronto          Ryerson, Garden District"
            ]
          },
          "metadata": {
            "tags": []
          },
          "execution_count": 24
        }
      ]
    }
  ]
}