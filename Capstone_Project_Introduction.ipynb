{
  "nbformat": 4,
  "nbformat_minor": 0,
  "metadata": {
    "colab": {
      "name": "Capstone-Project-Introduction.ipynb",
      "version": "0.3.2",
      "provenance": []
    },
    "kernelspec": {
      "name": "python3",
      "display_name": "Python 3"
    }
  },
  "cells": [
    {
      "metadata": {
        "id": "CvyBpGrFCn1d",
        "colab_type": "text"
      },
      "cell_type": "markdown",
      "source": [
        "# Introduction"
      ]
    },
    {
      "metadata": {
        "id": "ZdhfbNIJCpEE",
        "colab_type": "text"
      },
      "cell_type": "markdown",
      "source": [
        "When looking for a new house, the neighborhood where it is located is a very relevant factor. The obvious reason is we want to feel safe and relaxed in our home, so the neighborhood's safety, cleanliness and peacefulness are all taken into account, but a big part is played also by what services the neighborhood has to offer, and whether or not these services align with our lifestyle.\n",
        "\n",
        "For example, if I were to be a very active and sportive person, I may be interested in having gyms or parks near my house. If I had a passion for arts or literature, I may want to have libraries or museums in my neighborhood.\n",
        "\n",
        "In this project, I will analize New York's neighborhoods to determine which ones are best suited for a family with a baby or small child, classifying them according to their venues, and use these labeled data to train a Decision Tree model to be used to classify Toronto's neighborhoods with the same purpose."
      ]
    }
  ]
}