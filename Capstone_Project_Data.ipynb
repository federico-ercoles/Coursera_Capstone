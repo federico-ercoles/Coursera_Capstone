{
  "nbformat": 4,
  "nbformat_minor": 0,
  "metadata": {
    "colab": {
      "name": "Capstone-Project-Data.ipynb",
      "version": "0.3.2",
      "provenance": []
    },
    "kernelspec": {
      "name": "python3",
      "display_name": "Python 3"
    }
  },
  "cells": [
    {
      "metadata": {
        "id": "kzRuUOAYI6Sb",
        "colab_type": "text"
      },
      "cell_type": "markdown",
      "source": [
        "# Data"
      ]
    },
    {
      "metadata": {
        "id": "gyK0LfNxI6Wr",
        "colab_type": "text"
      },
      "cell_type": "markdown",
      "source": [
        "For this project, the purpose is determine which Toronto's neighborhoods are best for a family with a small child to live in, using a Decision Tree model trained on New York City's neighborhoods.\n",
        "\n",
        "In order to achieve that, I will use location data from Foursquare for both the neighborhoods of New York City and Toronto, extracting for each neighborhood the 10 most common venues in the area. In New York City's dataset, each venue category will get assigned a value between these:\n",
        "\n",
        "* 0: not very useful; for example, Spas, Hotels, Pubs or Juice Stores;\n",
        "* 1: convenient to have nearby; for example, Restaurants, and Gyms; \n",
        "* 2: very useful; for example, Baby Stores, Grocery Stores, Pharmacies and Parks. \n",
        "\n",
        "The Decision Tree model trained on these values will then use Toronto's dataset of most common venues per neighborhood to predict their suitability for a family with small children."
      ]
    }
  ]
}