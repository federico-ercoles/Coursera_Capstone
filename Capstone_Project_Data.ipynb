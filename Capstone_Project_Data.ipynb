{
  "nbformat": 4,
  "nbformat_minor": 0,
  "metadata": {
    "colab": {
      "name": "Capstone-Project-Data.ipynb",
      "version": "0.3.2",
      "provenance": []
    },
    "kernelspec": {
      "name": "python3",
      "display_name": "Python 3"
    }
  },
  "cells": [
    {
      "metadata": {
        "id": "kzRuUOAYI6Sb",
        "colab_type": "text"
      },
      "cell_type": "markdown",
      "source": [
        "## Data"
      ]
    },
    {
      "metadata": {
        "id": "gyK0LfNxI6Wr",
        "colab_type": "text"
      },
      "cell_type": "markdown",
      "source": [
        "<p align='justify'>For this project, the purpose is determine which Toronto's neighborhoods are best for a family with a small child to live in, using a Logistic Regression model trained on New York City's neighborhoods.\n",
        "<br>\n",
        "In order to achieve that, I will use location data from Foursquare for both the neighborhoods of New York City and Toronto, extracting for each neighborhood the distribution and frequency of all different venue categories.\n",
        "<br>\n",
        "In New York City's dataset, each venue category will get assigned a category between the following:\n",
        "<ul>\n",
        "<li>not very useful: for example, Spas, Hotels, Pubs or Juice Stores;\n",
        "<li>convenient to have nearby: for example, Restaurants, and Gyms; \n",
        "<li>very useful: for example, Baby Stores, Grocery Stores, Pharmacies and Parks. \n",
        "</ul>\n",
        "The Logistic Regression model trained on these values will then use Toronto's dataset of most common venues per neighborhood to predict their suitability for a family with small children.</p>"
      ]
    }
  ]
}