{
  "nbformat": 4,
  "nbformat_minor": 0,
  "metadata": {
    "colab": {
      "name": "Capstone-Project-Code.ipynb",
      "version": "0.3.2",
      "provenance": [],
      "collapsed_sections": []
    },
    "kernelspec": {
      "name": "python3",
      "display_name": "Python 3"
    }
  },
  "cells": [
    {
      "metadata": {
        "id": "MKS-xbLvXJTI",
        "colab_type": "code",
        "colab": {}
      },
      "cell_type": "code",
      "source": [
        "# IMPORT ALL NEEDED MODULES\n",
        "\n",
        "import pandas as pd\n",
        "import numpy as np\n",
        "import matplotlib.cm as cm\n",
        "import matplotlib.colors as colors\n",
        "import matplotlib.pyplot as plt\n",
        "import requests\n",
        "import folium\n",
        "import json\n",
        "import itertools\n",
        "from sklearn.linear_model import LogisticRegression\n",
        "from sklearn.model_selection import train_test_split\n",
        "from sklearn.metrics import (jaccard_similarity_score, f1_score, log_loss,\n",
        "  classification_report, confusion_matrix)\n",
        "from geopy.distance import distance\n",
        "from bs4 import BeautifulSoup\n",
        "from geopy.geocoders import Nominatim"
      ],
      "execution_count": 0,
      "outputs": []
    },
    {
      "metadata": {
        "id": "JdaC40qdDQUT",
        "colab_type": "code",
        "colab": {}
      },
      "cell_type": "code",
      "source": [
        "# SET PREFERRED FONT FOR GRAPHS\n",
        "\n",
        "plt.rcParams['font.family'] = \"monospace\""
      ],
      "execution_count": 0,
      "outputs": []
    },
    {
      "metadata": {
        "id": "2NEry55F_vBN",
        "colab_type": "code",
        "colab": {}
      },
      "cell_type": "code",
      "source": [
        "# FOURSQUARE CREDENTIALS\n",
        "\n",
        "CLIENT_ID = 'VHSY234TCBMJ31GRMHCVW3FMO1A3412INITUQKSUMXPZ4XEK'\n",
        "CLIENT_SECRET = 'DJGTTS2AIKGUHNDS3WOC34SLMV1HUMPJ4KDY1NVGG351MNFO'\n",
        "VERSION = '20181221'"
      ],
      "execution_count": 0,
      "outputs": []
    },
    {
      "metadata": {
        "id": "eQTD-GQxAfND",
        "colab_type": "code",
        "colab": {}
      },
      "cell_type": "code",
      "source": [
        "# CLASSIFICATION OF VENUE CATEGORIES\n",
        "# 0 -> not very useful\n",
        "# 1 -> convenient\n",
        "# 2 -> useful\n",
        "\n",
        "category_0 = ['Accessories Store', 'Adult Boutique', 'Airport', 'Airport Food Court', 'Airport Gate', 'Airport Lounge', 'Airport Service', 'Airport Terminal', 'Antique Shop', \n",
        "              'Art Gallery', 'Art Museum', 'Bar', 'Basketball Stadium', 'Beer Bar', 'Beer Store', 'Boat or Ferry', 'Bistro', 'Boutique', 'Breakfast Spot', 'Brewery', 'Bridal Shop', \n",
        "              'Bubble Tea Shop', 'Cafeteria', 'Café', 'Climbing Gym', 'Cocktail Bar', 'Coffee Shop', 'College Arts Building', 'College Gym', 'College Stadium', 'Concert Hall', \n",
        "              'Construction & Landscaping', 'Cosmetics Shop', 'Coworking Space', 'Creperie', 'Curling Ice', 'Dessert Shop', 'Event Space', 'Field', 'Flea Market', 'Flower Shop', \n",
        "              'Fountain', 'Fraternity House', 'Garden Center', 'Gay Bar', 'General Entertainment', 'General Travel', 'Gift Shop', 'Golf Course', 'Gourmet Shop', 'Harbor / Marina', \n",
        "              'Health & Beauty Service', 'Historic Site', 'History Museum', 'Hockey Arena', 'Home Service', 'Hotel', 'Hotel Bar', 'Indie Movie Theater', 'Intersection', 'Jazz Club',\n",
        "              'Jewelry Store', 'Juice Bar', 'Lake', 'Light Rail Station', 'Liquor Store', 'Lounge', 'Massage Studio', 'Miscellaneous Shop', 'Mobile Phone Shop', 'Monument / Landmark', \n",
        "              'Motel', 'Moving Target', 'Museum', 'Music Store', 'Music Venue', 'Neighborhood', 'Nightclub', 'Office', 'Paper / Office Supplies Store', 'Performing Arts Venue', 'Piano Bar', \n",
        "              'Plane', 'Plaza', 'Pub', 'Record Shop', 'Rental Car Location', 'River', 'Rock Climbing Spot', 'Sculpture Garden', 'Smoke Shop', 'Smoothie Shop', 'Social Club', 'Spa', \n",
        "              'Speakeasy', 'Sports Bar', 'Stadium', 'Stationery Store', 'Supplement Shop', 'Tailor Shop', 'Tanning Salon', 'Tea Room', 'Theater', 'Thrift / Vintage Store', 'Trail', \n",
        "              'Train Station', 'Video Store', 'Warehouse Store', 'Wine Bar', 'Wings Joint', 'Women\\'s Store', 'Yoga Studio', 'Donut Shop', 'Mattress Store', 'Bowling Alley', 'Platform', \n",
        "              'Tennis Stadium', 'Men\\'s Store', 'Track', 'Tattoo Parlor', 'Hostel', 'Check Cashing Service', 'Martial Arts Dojo', 'Airport Tram', 'Distillery', 'Cupcake Shop', \n",
        "              'Waste Facility', 'Shipping Store', 'Scenic Lookout', 'Weight Loss Center', 'Indie Theater', 'Building', 'Hookah Bar', 'Buffet', 'Wine Shop', 'Dive Bar', 'Lawyer', \n",
        "              'Factory', 'Non-Profit', 'Karaoke Bar', 'Lingerie Store', 'Racetrack', 'Pie Shop', 'Nail Salon', 'Pilates Studio', 'Waterfront', 'Beer Garden', 'Gaming Cafe', 'Farm', \n",
        "              'Rock Club', 'Print Shop', 'Other Repair Shop', 'Event Service', 'Baseball Stadium', 'Surf Spot', 'Hot Dog Joint', 'Motorcycle Shop', 'Boxing Gym', 'Sake Bar', 'Roof Deck', \n",
        "              'Other Nightlife', 'Bike Trail', 'Cycle Studio', 'Street Art', 'College Academic Building', 'Residential Building (Apartment / Condo)', 'Train', 'Opera House', 'Comedy Club', \n",
        "              'Christmas Market', 'Pet Café', 'Pier', 'Gym Pool', 'Animal Shelter', 'Newsstand', 'Design Studio', 'Board Shop', 'Outdoor Sculpture', 'Irish Pub', 'Memorial Site', \n",
        "              'Auditorium', 'Tree', 'Pool Hall', 'Pop-Up Shop', 'Lighthouse', 'Bed & Breakfast', 'Beach Bar', 'College Basketball Court', 'College Cafeteria', 'Tourist Information Center',\n",
        "              'Motorsports Shop', 'Nightlife Spot', 'Business Service', 'Recording Studio', 'IT Services', 'Insurance Office', 'Toll Plaza', 'Big Box Store', \n",
        "              'Molecular Gastronomy Restaurant', 'Automotive Shop', 'Spiritual Center', 'Duty-free Shop', 'Heliport', 'Rental Service', 'Bridge', 'Laser Tag', 'Whisky Bar', 'Rest Area', \n",
        "              'Hotel Pool', 'Fishing Spot', 'Pedestrian Plaza', 'Taxi Stand', 'Leather Goods Store', 'Casino', 'Food Stand', 'Road', 'Camera Store', 'College Rec Center', 'Auto Dealership',\n",
        "              'Housing Development', 'Ski Chalet', 'Ski Area', 'Outdoor Supply Store', 'Storage Facility', 'Kitchen Supply Store', 'Badminton Court', 'Amphitheater', 'Chiropractor',\n",
        "              'Tunnel', 'Racecourse', 'Photography Studio', 'Kofte Place', 'Souvenir Shop', 'Shoe Repair', 'Car Wash', 'Botanical Garden', 'Professional & Other Places', 'Public Art',\n",
        "              'Bath House']\n",
        "category_1 = ['American Restaurant', 'Arts & Crafts Store', 'Asian Restaurant', 'Athletics & Sports', 'Auto Garage', 'Auto Workshop', 'BBQ Joint', 'Bagel Shop', 'Bank', 'Baseball Field', \n",
        "              'Basketball Court', 'Belgian Restaurant', 'Bike Shop', 'Burger Joint', 'Burrito Place', 'Cajun / Creole Restaurant', 'Candy Store', 'Caribbean Restaurant', 'Cheese Shop', \n",
        "              'Chinese Restaurant', 'Chocolate Shop', 'Church', 'Comfort Food Restaurant', 'Comic Shop', 'Cuban Restaurant', 'Dance Studio', 'Deli / Bodega', 'Department Store', \n",
        "              'Dim Sum Restaurant', 'Diner', 'Dog Run', 'Drugstore', 'Dumpling Restaurant', 'Eastern European Restaurant', 'Electronics Store', 'Ethiopian Restaurant', \n",
        "              'Falafel Restaurant', 'Fast Food Restaurant', 'Fish & Chips Shop', 'Food', 'Food & Drink Shop', 'Food Court', 'Food Truck', 'French Restaurant', 'Fried Chicken Joint', \n",
        "              'Frozen Yogurt Shop', 'Furniture / Home Store', 'Garden', 'Gastropub', 'Greek Restaurant', 'Gym', 'Gym / Fitness Center', 'Hakka Restaurant', 'Hardware Store', 'Hobby Shop', \n",
        "              'Ice Cream Shop', 'Indian Restaurant', 'Indonesian Restaurant', 'Italian Restaurant', 'Japanese Restaurant', 'Jewish Restaurant', 'Korean Restaurant', \n",
        "              'Latin American Restaurant', 'Mediterranean Restaurant', 'Mexican Restaurant', 'Middle Eastern Restaurant', 'Movie Theater', 'New American Restaurant', 'Noodle House', \n",
        "              'Persian Restaurant', 'Pet Store', 'Pizza Place', 'Poke Place', 'Pool', 'Portuguese Restaurant', 'Ramen Restaurant', 'Restaurant', 'Salad Place', 'Salon / Barbershop', \n",
        "              'Sandwich Place', 'Seafood Restaurant', 'Shopping Plaza', 'Skate Park', 'Skating Rink', 'Snack Place', 'Soccer Field', 'Sporting Goods Shop', 'Steakhouse', 'Summer Camp', \n",
        "              'Sushi Restaurant', 'Swim School', 'Taco Place', 'Taiwanese Restaurant', 'Tennis Court', 'Thai Restaurant', 'Toy / Game Store', 'Vegetarian / Vegan Restaurant',\n",
        "              'Video Game Store', 'Vietnamese Restaurant', 'Spanish Restaurant', 'Laundromat', 'Soup Place', 'Arcade', 'Food Service', 'Dry Cleaner', \n",
        "              'African Restaurant', 'Paella Restaurant', 'Peruvian Restaurant', 'Community Center', 'South American Restaurant', 'Arepa Restaurant', 'Southern / Soul Food Restaurant',\n",
        "              'Optical Shop', 'Shabu-Shabu Restaurant', 'Hotpot Restaurant', 'Laundry Service', 'Polish Restaurant', 'Gymnastics Gym', 'Other Great Outdoors', 'Beach', \n",
        "              'Russian Restaurant', 'Varenyky restaurant', 'Turkish Restaurant', 'Pakistani Restaurant', 'Argentinian Restaurant', 'Israeli Restaurant', 'Tapas Restaurant', \n",
        "              'Theme Park Ride / Attraction', 'German Restaurant', 'Cantonese Restaurant', 'Lebanese Restaurant', 'English Restaurant', 'Malay Restaurant', 'Veterinarian', \n",
        "              'Japanese Curry Restaurant', 'Czech Restaurant', 'Afghan Restaurant', 'High School', 'Music School', 'Szechuan Restaurant', 'Hawaiian Restaurant', 'Shanghai Restaurant',\n",
        "              'Moroccan Restaurant', 'Swiss Restaurant', 'Filipino Restaurant', 'Bike Rental / Bike Share', 'Brazilian Restaurant', 'Empanada Restaurant', 'Colombian Restaurant', \n",
        "              'Pet Service', 'Gas Station', 'Egyptian Restaurant', 'Kosher Restaurant', 'Shop & Service', 'Multiplex', 'Austrian Restaurant', 'Gluten-free Restaurant', 'Halal Restaurant', \n",
        "              'Sri Lankan Restaurant', 'Mini Golf', 'Go Kart Track', 'Sports Club', 'Tibetan Restaurant', 'Recreation Center', 'Theme Park', 'Tex-Mex Restaurant', 'Australian Restaurant', \n",
        "              'Campground', 'Caucasian Restaurant', 'South Indian Restaurant', 'Zoo Exhibit', 'Doner Restaurant', 'Modern European Restaurant', 'National Park', 'Scandinavian Restaurant',\n",
        "              'Romanian Restaurant', 'Himalayan Restaurant', ]\n",
        "category_2 = ['Baby Store', 'Bakery', 'Bookstore', 'Bus Line', 'Bus Station', 'Bus Stop', 'Butcher', 'Clothing Store', 'Convenience Store', 'Discount Store', 'Farmers Market', \n",
        "              'Fish Market', 'Fruit & Vegetable Store', 'Grocery Store', 'Health Food Store', 'Market', 'Medical Center', 'Metro Station', 'Organic Grocery', 'Park',\n",
        "              'Pharmacy', 'Playground', 'Shoe Store', 'Shopping Mall', 'Supermarket', 'Kids Store', 'Eye Doctor', 'Outdoors & Recreation', 'Used Bookstore', 'School', 'Library']"
      ],
      "execution_count": 0,
      "outputs": []
    },
    {
      "metadata": {
        "id": "HZoACsB7NiOR",
        "colab_type": "code",
        "colab": {}
      },
      "cell_type": "code",
      "source": [
        "# CATEGORY CLASSES UTILITIES\n",
        "\n",
        "categories = {0.1: category_0, 1: category_1, 10: category_2}\n",
        "venue_classes = {0: category_0, 1: category_1, 2: category_2}\n",
        "category_list = sorted(category_0+category_1+category_2)\n",
        "\n",
        "# list of coefficients used to compute neighborhood score\n",
        "multipliers = [key for category in category_list for key in categories.keys() if category in categories[key]]\n",
        "\n",
        "# function to get class of a venue category\n",
        "def getVenueClass(category):\n",
        "  for key in venue_classes.keys():\n",
        "    if category in venue_classes[key]:\n",
        "      return key"
      ],
      "execution_count": 0,
      "outputs": []
    },
    {
      "metadata": {
        "id": "LGlMFYdq_251",
        "colab_type": "code",
        "colab": {}
      },
      "cell_type": "code",
      "source": [
        "# function to get venues of Toronto's neighborhoods\n",
        "def getNearbyVenuesToronto(names, latitudes, longitudes):\n",
        "    venues_list=[]\n",
        "    for name, lat, lng in zip(names, latitudes, longitudes):\n",
        "      radius = min([distance((lat, lng), coords).m for coords in zip(latitudes, longitudes) if coords != (lat, lng)]) / 2\n",
        "      url = 'https://api.foursquare.com/v2/venues/explore?&client_id={}&client_secret={}&v={}&ll={},{}&radius={}'.format(\n",
        "          CLIENT_ID, CLIENT_SECRET, VERSION, lat, lng, radius)\n",
        "      response = requests.get(url).json()[\"response\"]\n",
        "      if response:\n",
        "        results = response['groups'][0]['items']\n",
        "        venues_list.append([(name, lat, lng, v['venue']['name'], \n",
        "            v['venue']['location']['lat'], v['venue']['location']['lng'],  \n",
        "            v['venue']['categories'][0]['name']) for v in results])\n",
        "    nearby_venues = pd.DataFrame([item for venue_list in venues_list for item in venue_list])\n",
        "    nearby_venues.columns = ['PostalCode', 'PostalCode Latitude', \n",
        "                  'PostalCode Longitude', 'Venue', 'Venue Latitude', \n",
        "                  'Venue Longitude', 'Venue Category']\n",
        "    \n",
        "    return(nearby_venues)"
      ],
      "execution_count": 0,
      "outputs": []
    },
    {
      "metadata": {
        "id": "jrq_ZJLGPhbV",
        "colab_type": "code",
        "colab": {}
      },
      "cell_type": "code",
      "source": [
        "# function to get venues of New York's neighborhoods\n",
        "def getNearbyVenuesNewYork(names, latitudes, longitudes):\n",
        "    venues_list=[]\n",
        "    for name, lat, lng in zip(names, latitudes, longitudes):\n",
        "      radius = min([distance((lat, lng), coords).m for coords in zip(latitudes, longitudes) if coords != (lat, lng)]) / 2\n",
        "      url = 'https://api.foursquare.com/v2/venues/explore?&client_id={}&client_secret={}&v={}&ll={},{}&radius={}'.format(\n",
        "          CLIENT_ID, CLIENT_SECRET, VERSION, lat, lng, radius)\n",
        "      response = requests.get(url).json()[\"response\"]\n",
        "      if response:\n",
        "        results = response['groups'][0]['items']\n",
        "        venues_list.append([(name, lat, lng, v['venue']['name'], \n",
        "            v['venue']['location']['lat'], v['venue']['location']['lng'],  \n",
        "            v['venue']['categories'][0]['name']) for v in results])\n",
        "    nearby_venues = pd.DataFrame([item for venue_list in venues_list for item in venue_list])\n",
        "    nearby_venues.columns = ['Neighbourhood', 'Neighbourhood Latitude', \n",
        "                  'Neighbourhood Longitude', 'Venue', 'Venue Latitude', \n",
        "                  'Venue Longitude', 'Venue Category']\n",
        "    \n",
        "    return(nearby_venues)"
      ],
      "execution_count": 0,
      "outputs": []
    },
    {
      "metadata": {
        "id": "JSGHZd92_aHL",
        "colab_type": "code",
        "colab": {}
      },
      "cell_type": "code",
      "source": [
        "# scraping of Wikipedia article to get list of Toronto's areas\n",
        "\n",
        "wikipedia_page = 'https://en.wikipedia.org/wiki/List_of_postal_codes_of_Canada:_M'\n",
        "source = requests.get(wikipedia_page).text\n",
        "soup = BeautifulSoup(source, 'lxml')\n",
        "table = soup.find('table')\n",
        "data = []\n",
        "for i, row in enumerate(table.find_all('tr')):\n",
        "  entry = [item.text for item in row.find_all('td')]\n",
        "  if entry and entry[1] != 'Not assigned':\n",
        "    if entry[0] not in [item['Postcode'] for item in data]:\n",
        "      data.append({'Postcode': entry[0],\n",
        "                   'Borough': entry[1],\n",
        "                   'Neighbourhood': entry[2].rstrip() if entry[2].rstrip() != 'Not assigned' else entry[1]})\n",
        "    else:\n",
        "      index = [i for i, item in enumerate(data) if item['Postcode'] == entry[0]][0]\n",
        "      data[index]['Neighbourhood'] += ', '+entry[2].rstrip()\n",
        "toronto_areas = pd.DataFrame(data=data, columns=['Postcode', 'Borough', 'Neighbourhood'])\n",
        "toronto_areas.columns = ['PostalCode', 'Borough', 'Neighbourhood']\n",
        "coords = pd.read_csv('http://cocl.us/Geospatial_data')\n",
        "toronto_data = pd.merge(toronto_areas, coords, left_on='PostalCode', right_on='Postal Code', suffixes=('', '')).drop('Postal Code', 1)"
      ],
      "execution_count": 0,
      "outputs": []
    },
    {
      "metadata": {
        "id": "6LVnEFrVAPXP",
        "colab_type": "code",
        "outputId": "ae0250c9-a5eb-482a-c39e-cd9ecb99c6f8",
        "colab": {
          "base_uri": "https://localhost:8080/",
          "height": 34
        }
      },
      "cell_type": "code",
      "source": [
        "# retrieval of Toronto's neighborhoods' venue data\n",
        "\n",
        "toronto_venues = getNearbyVenuesToronto(toronto_data.PostalCode, toronto_data.Latitude, toronto_data.Longitude)\n",
        "toronto_venues.shape"
      ],
      "execution_count": 13,
      "outputs": [
        {
          "output_type": "execute_result",
          "data": {
            "text/plain": [
              "(2190, 7)"
            ]
          },
          "metadata": {
            "tags": []
          },
          "execution_count": 13
        }
      ]
    },
    {
      "metadata": {
        "id": "0b3DlTvPAa5z",
        "colab_type": "code",
        "outputId": "eaf76971-c4c4-4422-b0ab-3ad44782e1de",
        "colab": {
          "base_uri": "https://localhost:8080/",
          "height": 195
        }
      },
      "cell_type": "code",
      "source": [
        "# Toronto's venue data set trasformation\n",
        "\n",
        "# get category dummies\n",
        "toronto_onehot = pd.get_dummies(toronto_venues[['Venue Category']], prefix=\"\", prefix_sep=\"\")\n",
        "for category in category_list:\n",
        "  if category not in toronto_onehot.columns:\n",
        "    toronto_onehot[category] = [0 for i in range(toronto_onehot.shape[0])]\n",
        "toronto_onehot['PostalCode'] = toronto_venues['PostalCode']\n",
        "fixed_columns = [toronto_onehot.columns[-1]] + sorted(list(toronto_onehot.columns[:-1]))\n",
        "toronto_onehot = toronto_onehot[fixed_columns]\n",
        "# group by area\n",
        "toronto_grouped = toronto_onehot.groupby('PostalCode').mean().reset_index()\n",
        "# apply category class multipliers\n",
        "toronto_weighted = toronto_grouped[category_list] * multipliers\n",
        "# compute neighborhood score\n",
        "toronto_weighted['Score'] = toronto_weighted[category_list].sum(axis=1)\n",
        "# assign suitability\n",
        "toronto_weighted['Suitability'] = toronto_weighted['Score'] > 2.5\n",
        "toronto_weighted['Suitability'] = toronto_weighted['Suitability'].apply(int)\n",
        "toronto_grouped['Suitability'] = toronto_weighted['Suitability']\n",
        "toronto_grouped['Score'] = toronto_weighted['Score']\n",
        "toronto_scores = pd.merge(toronto_data, toronto_grouped[['PostalCode', 'Score', 'Suitability']], on='PostalCode', how='outer', suffixes=('', ''))\n",
        "toronto_scores.where(pd.notnull(toronto_scores), 0)\n",
        "toronto_scores.head()"
      ],
      "execution_count": 14,
      "outputs": [
        {
          "output_type": "execute_result",
          "data": {
            "text/html": [
              "<div>\n",
              "<style scoped>\n",
              "    .dataframe tbody tr th:only-of-type {\n",
              "        vertical-align: middle;\n",
              "    }\n",
              "\n",
              "    .dataframe tbody tr th {\n",
              "        vertical-align: top;\n",
              "    }\n",
              "\n",
              "    .dataframe thead th {\n",
              "        text-align: right;\n",
              "    }\n",
              "</style>\n",
              "<table border=\"1\" class=\"dataframe\">\n",
              "  <thead>\n",
              "    <tr style=\"text-align: right;\">\n",
              "      <th></th>\n",
              "      <th>PostalCode</th>\n",
              "      <th>Borough</th>\n",
              "      <th>Neighbourhood</th>\n",
              "      <th>Latitude</th>\n",
              "      <th>Longitude</th>\n",
              "      <th>Score</th>\n",
              "      <th>Suitability</th>\n",
              "    </tr>\n",
              "  </thead>\n",
              "  <tbody>\n",
              "    <tr>\n",
              "      <th>0</th>\n",
              "      <td>M3A</td>\n",
              "      <td>North York</td>\n",
              "      <td>Parkwoods</td>\n",
              "      <td>43.753259</td>\n",
              "      <td>-79.329656</td>\n",
              "      <td>5.189655</td>\n",
              "      <td>1.0</td>\n",
              "    </tr>\n",
              "    <tr>\n",
              "      <th>1</th>\n",
              "      <td>M4A</td>\n",
              "      <td>North York</td>\n",
              "      <td>Victoria Village</td>\n",
              "      <td>43.725882</td>\n",
              "      <td>-79.315572</td>\n",
              "      <td>1.675000</td>\n",
              "      <td>0.0</td>\n",
              "    </tr>\n",
              "    <tr>\n",
              "      <th>2</th>\n",
              "      <td>M5A</td>\n",
              "      <td>Downtown Toronto</td>\n",
              "      <td>Harbourfront, Regent Park</td>\n",
              "      <td>43.654260</td>\n",
              "      <td>-79.360636</td>\n",
              "      <td>2.380000</td>\n",
              "      <td>0.0</td>\n",
              "    </tr>\n",
              "    <tr>\n",
              "      <th>3</th>\n",
              "      <td>M6A</td>\n",
              "      <td>North York</td>\n",
              "      <td>Lawrence Heights, Lawrence Manor</td>\n",
              "      <td>43.718518</td>\n",
              "      <td>-79.464763</td>\n",
              "      <td>1.600000</td>\n",
              "      <td>0.0</td>\n",
              "    </tr>\n",
              "    <tr>\n",
              "      <th>4</th>\n",
              "      <td>M7A</td>\n",
              "      <td>Queen's Park</td>\n",
              "      <td>Queen's Park</td>\n",
              "      <td>43.662301</td>\n",
              "      <td>-79.389494</td>\n",
              "      <td>0.280000</td>\n",
              "      <td>0.0</td>\n",
              "    </tr>\n",
              "  </tbody>\n",
              "</table>\n",
              "</div>"
            ],
            "text/plain": [
              "  PostalCode           Borough                     Neighbourhood   Latitude  \\\n",
              "0        M3A        North York                         Parkwoods  43.753259   \n",
              "1        M4A        North York                  Victoria Village  43.725882   \n",
              "2        M5A  Downtown Toronto         Harbourfront, Regent Park  43.654260   \n",
              "3        M6A        North York  Lawrence Heights, Lawrence Manor  43.718518   \n",
              "4        M7A      Queen's Park                      Queen's Park  43.662301   \n",
              "\n",
              "   Longitude     Score  Suitability  \n",
              "0 -79.329656  5.189655          1.0  \n",
              "1 -79.315572  1.675000          0.0  \n",
              "2 -79.360636  2.380000          0.0  \n",
              "3 -79.464763  1.600000          0.0  \n",
              "4 -79.389494  0.280000          0.0  "
            ]
          },
          "metadata": {
            "tags": []
          },
          "execution_count": 14
        }
      ]
    },
    {
      "metadata": {
        "id": "0C6OJYiiQUtE",
        "colab_type": "code",
        "outputId": "0a905d0d-db0a-4981-a2f7-96218b64f653",
        "colab": {
          "base_uri": "https://localhost:8080/",
          "height": 34
        }
      },
      "cell_type": "code",
      "source": [
        "# import of New York's neighborhood list from JSON file\n",
        "\n",
        "newyork_json = json.loads(requests.get('https://ibm.box.com/shared/static/fbpwbovar7lf8p5sgddm06cgipa2rxpe.json').text)['features']\n",
        "column_names = ['Borough', 'Neighbourhood', 'Latitude', 'Longitude'] \n",
        "newyork_data = pd.DataFrame(columns=column_names)\n",
        "\n",
        "for data in newyork_json:\n",
        "    borough = neighborhood_name = data['properties']['borough'] \n",
        "    neighborhood_name = data['properties']['name']\n",
        "        \n",
        "    neighborhood_latlon = data['geometry']['coordinates']\n",
        "    neighborhood_lat = neighborhood_latlon[1]\n",
        "    neighborhood_lon = neighborhood_latlon[0]\n",
        "    \n",
        "    newyork_data = newyork_data.append({'Borough': borough,\n",
        "                                        'Neighbourhood': neighborhood_name,\n",
        "                                        'Latitude': neighborhood_lat,\n",
        "                                        'Longitude': neighborhood_lon}, ignore_index=True)\n",
        "    \n",
        "newyork_data.shape"
      ],
      "execution_count": 15,
      "outputs": [
        {
          "output_type": "execute_result",
          "data": {
            "text/plain": [
              "(306, 4)"
            ]
          },
          "metadata": {
            "tags": []
          },
          "execution_count": 15
        }
      ]
    },
    {
      "metadata": {
        "id": "wq8Jrgz4SabZ",
        "colab_type": "code",
        "outputId": "7b24e8f3-0565-4d5d-e9e1-84b825f1cd3a",
        "colab": {
          "base_uri": "https://localhost:8080/",
          "height": 34
        }
      },
      "cell_type": "code",
      "source": [
        "# retrieval of New York's neighborhoods' venue data\n",
        "\n",
        "newyork_venues = getNearbyVenuesNewYork(newyork_data.Neighbourhood, newyork_data.Latitude, newyork_data.Longitude)\n",
        "newyork_venues.shape"
      ],
      "execution_count": 16,
      "outputs": [
        {
          "output_type": "execute_result",
          "data": {
            "text/plain": [
              "(6084, 7)"
            ]
          },
          "metadata": {
            "tags": []
          },
          "execution_count": 16
        }
      ]
    },
    {
      "metadata": {
        "id": "2IZKGF8LO1m-",
        "colab_type": "code",
        "outputId": "240bded0-97f3-41d6-fde5-064a421b6143",
        "colab": {
          "base_uri": "https://localhost:8080/",
          "height": 195
        }
      },
      "cell_type": "code",
      "source": [
        "# New York's venue data set transformation\n",
        "\n",
        "# get category dummies\n",
        "newyork_onehot = pd.get_dummies(newyork_venues[['Venue Category']], prefix=\"\", prefix_sep=\"\")\n",
        "for category in category_list:\n",
        "  if category not in newyork_onehot.columns:\n",
        "    newyork_onehot[category] = [0 for i in range(newyork_onehot.shape[0])]\n",
        "newyork_onehot['Neighbourhood'] = newyork_venues['Neighbourhood']\n",
        "fixed_columns = [newyork_onehot.columns[-1]] + sorted(list(newyork_onehot.columns[:-1]))\n",
        "newyork_onehot = newyork_onehot[fixed_columns]\n",
        "# group by neighborhood\n",
        "newyork_grouped = newyork_onehot.groupby('Neighbourhood').mean().reset_index()\n",
        "# apply category class multipliers\n",
        "newyork_weighted = newyork_grouped[category_list] * multipliers\n",
        "# compute neighborhood score\n",
        "newyork_weighted['Score'] = newyork_weighted[category_list].sum(axis=1)\n",
        "# assign suitability\n",
        "newyork_weighted['Suitability'] = newyork_weighted['Score'] > 2.5\n",
        "newyork_weighted['Suitability'] = newyork_weighted['Suitability'].apply(int)\n",
        "newyork_grouped['Suitability'] = newyork_weighted['Suitability']\n",
        "newyork_grouped['Score'] = newyork_weighted['Score']\n",
        "newyork_scores = pd.merge(newyork_data, newyork_grouped[['Neighbourhood', 'Score', 'Suitability']], on='Neighbourhood', how='outer', suffixes=('', ''))\n",
        "newyork_scores.where(pd.notnull(newyork_scores), 0)\n",
        "newyork_scores.head()"
      ],
      "execution_count": 17,
      "outputs": [
        {
          "output_type": "execute_result",
          "data": {
            "text/html": [
              "<div>\n",
              "<style scoped>\n",
              "    .dataframe tbody tr th:only-of-type {\n",
              "        vertical-align: middle;\n",
              "    }\n",
              "\n",
              "    .dataframe tbody tr th {\n",
              "        vertical-align: top;\n",
              "    }\n",
              "\n",
              "    .dataframe thead th {\n",
              "        text-align: right;\n",
              "    }\n",
              "</style>\n",
              "<table border=\"1\" class=\"dataframe\">\n",
              "  <thead>\n",
              "    <tr style=\"text-align: right;\">\n",
              "      <th></th>\n",
              "      <th>Borough</th>\n",
              "      <th>Neighbourhood</th>\n",
              "      <th>Latitude</th>\n",
              "      <th>Longitude</th>\n",
              "      <th>Score</th>\n",
              "      <th>Suitability</th>\n",
              "    </tr>\n",
              "  </thead>\n",
              "  <tbody>\n",
              "    <tr>\n",
              "      <th>0</th>\n",
              "      <td>Bronx</td>\n",
              "      <td>Wakefield</td>\n",
              "      <td>40.894705</td>\n",
              "      <td>-73.847201</td>\n",
              "      <td>1.70</td>\n",
              "      <td>0.0</td>\n",
              "    </tr>\n",
              "    <tr>\n",
              "      <th>1</th>\n",
              "      <td>Bronx</td>\n",
              "      <td>Co-op City</td>\n",
              "      <td>40.874294</td>\n",
              "      <td>-73.829939</td>\n",
              "      <td>3.97</td>\n",
              "      <td>1.0</td>\n",
              "    </tr>\n",
              "    <tr>\n",
              "      <th>2</th>\n",
              "      <td>Bronx</td>\n",
              "      <td>Eastchester</td>\n",
              "      <td>40.887556</td>\n",
              "      <td>-73.827806</td>\n",
              "      <td>1.66</td>\n",
              "      <td>0.0</td>\n",
              "    </tr>\n",
              "    <tr>\n",
              "      <th>3</th>\n",
              "      <td>Bronx</td>\n",
              "      <td>Fieldston</td>\n",
              "      <td>40.895437</td>\n",
              "      <td>-73.905643</td>\n",
              "      <td>3.40</td>\n",
              "      <td>1.0</td>\n",
              "    </tr>\n",
              "    <tr>\n",
              "      <th>4</th>\n",
              "      <td>Bronx</td>\n",
              "      <td>Riverdale</td>\n",
              "      <td>40.890834</td>\n",
              "      <td>-73.912585</td>\n",
              "      <td>0.55</td>\n",
              "      <td>0.0</td>\n",
              "    </tr>\n",
              "  </tbody>\n",
              "</table>\n",
              "</div>"
            ],
            "text/plain": [
              "  Borough Neighbourhood   Latitude  Longitude  Score  Suitability\n",
              "0   Bronx     Wakefield  40.894705 -73.847201   1.70          0.0\n",
              "1   Bronx    Co-op City  40.874294 -73.829939   3.97          1.0\n",
              "2   Bronx   Eastchester  40.887556 -73.827806   1.66          0.0\n",
              "3   Bronx     Fieldston  40.895437 -73.905643   3.40          1.0\n",
              "4   Bronx     Riverdale  40.890834 -73.912585   0.55          0.0"
            ]
          },
          "metadata": {
            "tags": []
          },
          "execution_count": 17
        }
      ]
    },
    {
      "metadata": {
        "id": "ipGj4QldQ8s5",
        "colab_type": "code",
        "colab": {}
      },
      "cell_type": "code",
      "source": [
        "# get New York's coordinates for map\n",
        "\n",
        "address = 'New York City, NY'\n",
        "\n",
        "geolocator = Nominatim(user_agent='coursera-capstone-project')\n",
        "location = None\n",
        "while not location:\n",
        "  location = geolocator.geocode(address)\n",
        "latitude = location.latitude\n",
        "longitude = location.longitude"
      ],
      "execution_count": 0,
      "outputs": []
    },
    {
      "metadata": {
        "id": "kiPYAHEGoqqN",
        "colab_type": "code",
        "colab": {}
      },
      "cell_type": "code",
      "source": [
        "# display New York's neighborhoods on map, with purple marker if suitable, red otherwise\n",
        "\n",
        "map_newyork = folium.Map(location=[latitude, longitude], zoom_start=11)\n",
        "neighborhoods = zip(newyork_scores['Latitude'], newyork_scores['Longitude'], newyork_scores['Borough'], newyork_scores['Neighbourhood'], newyork_scores['Suitability'])\n",
        "\n",
        "for lat, lng, borough, neighborhood, score in neighborhoods:\n",
        "    label = '{}, {}'.format(neighborhood, borough)\n",
        "    label = folium.Popup(label)\n",
        "    color = 'purple' if score else 'red'\n",
        "    icon = 'thumbs-up' if score else 'thumbs-down'\n",
        "    marker = folium.Marker(location=[lat, lng], popup=label, icon=folium.Icon(icon=icon, color=color)).add_to(map_newyork)  \n",
        "    \n",
        "# map_newyork"
      ],
      "execution_count": 0,
      "outputs": []
    },
    {
      "metadata": {
        "id": "IvMmrLROUfCh",
        "colab_type": "code",
        "outputId": "34c93bdc-ca44-406e-eec7-82b500bc640b",
        "colab": {
          "base_uri": "https://localhost:8080/",
          "height": 50
        }
      },
      "cell_type": "code",
      "source": [
        "# prepare New York's data set for test training\n",
        "\n",
        "X_NY = np.asarray(newyork_grouped[category_list])\n",
        "y_NY = np.asarray(newyork_grouped['Suitability'])\n",
        "X_NY_train, X_NY_test, y_NY_train, y_NY_test = train_test_split(X_NY, y_NY, test_size=0.2, random_state=0)\n",
        "print('Train set:', X_NY_train.shape,  y_NY_train.shape)\n",
        "print('Test set:', X_NY_test.shape,  y_NY_test.shape)"
      ],
      "execution_count": 20,
      "outputs": [
        {
          "output_type": "stream",
          "text": [
            "Train set: (240, 447) (240,)\n",
            "Test set: (61, 447) (61,)\n"
          ],
          "name": "stdout"
        }
      ]
    },
    {
      "metadata": {
        "id": "98ui2KCqTBGf",
        "colab_type": "code",
        "outputId": "37b80f95-ac46-4dd4-b4a5-07e051c6492a",
        "colab": {
          "base_uri": "https://localhost:8080/",
          "height": 34
        }
      },
      "cell_type": "code",
      "source": [
        "# create Logistic Regression model and fit with New York's split data set to test\n",
        "\n",
        "test_model = LogisticRegression(C=0.3, solver='liblinear', random_state=0, class_weight='balanced').fit(X_NY_train, y_NY_train)\n",
        "yhat_NY = test_model.predict(X_NY_test)\n",
        "# compute Jaccard index to assert accuracy\n",
        "jaccard_similarity_score(y_NY_test, yhat_NY)"
      ],
      "execution_count": 21,
      "outputs": [
        {
          "output_type": "execute_result",
          "data": {
            "text/plain": [
              "0.8360655737704918"
            ]
          },
          "metadata": {
            "tags": []
          },
          "execution_count": 21
        }
      ]
    },
    {
      "metadata": {
        "id": "8O8YikT-WVgZ",
        "colab_type": "code",
        "colab": {}
      },
      "cell_type": "code",
      "source": [
        "# fit final model with New York's full data set\n",
        "\n",
        "model = test_model.fit(X_NY, y_NY)"
      ],
      "execution_count": 0,
      "outputs": []
    },
    {
      "metadata": {
        "id": "JV2A4yjDZ0cE",
        "colab_type": "code",
        "colab": {}
      },
      "cell_type": "code",
      "source": [
        "# prepare Toronto's data set\n",
        "\n",
        "X_T = np.asarray(toronto_grouped[category_list])\n",
        "y_T = np.asarray(toronto_grouped['Suitability'])"
      ],
      "execution_count": 0,
      "outputs": []
    },
    {
      "metadata": {
        "id": "IYhEb4DYi_Ey",
        "colab_type": "code",
        "outputId": "9617dd94-53fb-45d4-fb60-7f9f5285a157",
        "colab": {
          "base_uri": "https://localhost:8080/",
          "height": 34
        }
      },
      "cell_type": "code",
      "source": [
        "# compute Jaccard index, Log loss and F1 score\n",
        "\n",
        "yhat_T = model.predict(X_T)\n",
        "yhat_T_prob = model.predict_proba(X_T)\n",
        "jaccard_similarity_score(yhat_T, y_T), log_loss(y_T, yhat_T_prob), f1_score(y_T, yhat_T)"
      ],
      "execution_count": 24,
      "outputs": [
        {
          "output_type": "execute_result",
          "data": {
            "text/plain": [
              "(0.8529411764705882, 0.6574886809519366, 0.8235294117647058)"
            ]
          },
          "metadata": {
            "tags": []
          },
          "execution_count": 24
        }
      ]
    },
    {
      "metadata": {
        "id": "JGQMMZyfWDVl",
        "colab_type": "code",
        "outputId": "0c3f7d73-8edd-4b5e-ca46-7195d36a9a98",
        "colab": {
          "base_uri": "https://localhost:8080/",
          "height": 415
        }
      },
      "cell_type": "code",
      "source": [
        "# plot training model's confusion matrix\n",
        "\n",
        "def plot_confusion_matrix(cm, classes,\n",
        "                          title='Confusion matrix',\n",
        "                          cmap=plt.cm.Purples):\n",
        "    plt.imshow(cm, interpolation='nearest', cmap=cmap)\n",
        "    plt.title(title)\n",
        "    tick_marks = np.arange(len(classes))\n",
        "    plt.xticks(tick_marks, classes, rotation=45)\n",
        "    plt.yticks(tick_marks, classes, rotation=45)\n",
        "\n",
        "    fmt = 'd'\n",
        "    thresh = cm.max() / 2.\n",
        "    for i, j in itertools.product(range(cm.shape[0]), range(cm.shape[1])):\n",
        "        plt.text(j, i, format(cm[i, j], fmt),\n",
        "                 horizontalalignment=\"center\",\n",
        "                 color=\"white\" if cm[i, j] > thresh else \"black\")\n",
        "\n",
        "    plt.tight_layout()\n",
        "    plt.ylabel('True label')\n",
        "    plt.xlabel('Predicted label')\n",
        "    plt.grid(False)\n",
        "    \n",
        "tm_cnf_matrix = confusion_matrix(y_NY_test, yhat_NY, labels=[1,0])\n",
        "np.set_printoptions(precision=2)\n",
        "\n",
        "plt.figure()\n",
        "plot_confusion_matrix(tm_cnf_matrix, classes=['suitable', 'unsuitable'], title='Training Model\\'s Confusion Matrix')"
      ],
      "execution_count": 26,
      "outputs": [
        {
          "output_type": "display_data",
          "data": {
            "image/png": "[encoded data removed]",
            "text/plain": [
              "<matplotlib.figure.Figure at 0x7ff9657eabe0>"
            ]
          },
          "metadata": {
            "tags": []
          }
        }
      ]
    },
    {
      "metadata": {
        "id": "AZ9I-_VOjnam",
        "colab_type": "code",
        "outputId": "8a52c4b4-015d-43ea-9da9-41eeb0287d3a",
        "colab": {
          "base_uri": "https://localhost:8080/",
          "height": 451
        }
      },
      "cell_type": "code",
      "source": [
        "# plot final model's confusion matrix\n",
        "\n",
        "fm_cnf_matrix = confusion_matrix(y_T, yhat_T, labels=[1,0])\n",
        "np.set_printoptions(precision=2)\n",
        "\n",
        "plt.figure(figsize=(6, 6))\n",
        "plot_confusion_matrix(fm_cnf_matrix, classes=['suitable', 'unsuitable'], title='Final Model\\'s Confusion Matrix', cmap=plt.cm.Reds)"
      ],
      "execution_count": 27,
      "outputs": [
        {
          "output_type": "display_data",
          "data": {
            "image/png": "[encoded data removed]",
            "text/plain": [
              "<matplotlib.figure.Figure at 0x7ff986d432b0>"
            ]
          },
          "metadata": {
            "tags": []
          }
        }
      ]
    },
    {
      "metadata": {
        "id": "QMdzFdrbtbBq",
        "colab_type": "code",
        "outputId": "a17660d2-e998-481c-fe35-3698875e09d1",
        "colab": {
          "base_uri": "https://localhost:8080/",
          "height": 136
        }
      },
      "cell_type": "code",
      "source": [
        "# count how many venues there are for each category class\n",
        "\n",
        "# get list of New York venues with category\n",
        "newyork_category_classes = newyork_venues[['Venue', 'Venue Category']].copy()\n",
        "# get category class\n",
        "newyork_category_classes['Venue Class'] = newyork_category_classes['Venue Category'].apply(getVenueClass)\n",
        "# group by class and count\n",
        "category_classes = newyork_category_classes[['Venue', 'Venue Class']].groupby('Venue Class').count().reset_index()\n",
        "category_classes.columns = ['Venue Class', 'New York Venues']\n",
        "# get list of Toronto venues with category\n",
        "toronto_category_classes = toronto_venues[['Venue', 'Venue Category']].copy()\n",
        "# get category class\n",
        "toronto_category_classes['Venue Class'] = toronto_category_classes['Venue Category'].apply(getVenueClass)\n",
        "# group by class and count, and merge with previous results\n",
        "category_classes = category_classes.merge(toronto_category_classes[['Venue', 'Venue Class']].groupby('Venue Class').count().reset_index(), on='Venue Class', suffixes=('', ''))\n",
        "category_classes.columns = ['Venue Class', 'New York Venues', 'Toronto Venues']\n",
        "category_classes.head()"
      ],
      "execution_count": 29,
      "outputs": [
        {
          "output_type": "execute_result",
          "data": {
            "text/html": [
              "<div>\n",
              "<style scoped>\n",
              "    .dataframe tbody tr th:only-of-type {\n",
              "        vertical-align: middle;\n",
              "    }\n",
              "\n",
              "    .dataframe tbody tr th {\n",
              "        vertical-align: top;\n",
              "    }\n",
              "\n",
              "    .dataframe thead th {\n",
              "        text-align: right;\n",
              "    }\n",
              "</style>\n",
              "<table border=\"1\" class=\"dataframe\">\n",
              "  <thead>\n",
              "    <tr style=\"text-align: right;\">\n",
              "      <th></th>\n",
              "      <th>Venue Class</th>\n",
              "      <th>New York Venues</th>\n",
              "      <th>Toronto Venues</th>\n",
              "    </tr>\n",
              "  </thead>\n",
              "  <tbody>\n",
              "    <tr>\n",
              "      <th>0</th>\n",
              "      <td>0.0</td>\n",
              "      <td>1848</td>\n",
              "      <td>715</td>\n",
              "    </tr>\n",
              "    <tr>\n",
              "      <th>1</th>\n",
              "      <td>1.0</td>\n",
              "      <td>3197</td>\n",
              "      <td>1067</td>\n",
              "    </tr>\n",
              "    <tr>\n",
              "      <th>2</th>\n",
              "      <td>2.0</td>\n",
              "      <td>1034</td>\n",
              "      <td>405</td>\n",
              "    </tr>\n",
              "  </tbody>\n",
              "</table>\n",
              "</div>"
            ],
            "text/plain": [
              "   Venue Class  New York Venues  Toronto Venues\n",
              "0          0.0             1848             715\n",
              "1          1.0             3197            1067\n",
              "2          2.0             1034             405"
            ]
          },
          "metadata": {
            "tags": []
          },
          "execution_count": 29
        }
      ]
    },
    {
      "metadata": {
        "id": "tGOh-wdaMZbe",
        "colab_type": "code",
        "outputId": "4cca8313-19cc-4ec6-e204-7928248d4555",
        "colab": {
          "base_uri": "https://localhost:8080/",
          "height": 430
        }
      },
      "cell_type": "code",
      "source": [
        "# plot distribution of venues per category class\n",
        "\n",
        "ax = category_classes.plot(x='Venue Class', y=['New York Venues', 'Toronto Venues'], kind='bar', color=['#7570b3','#d95f02','#1b9e77'])\n",
        "ax.set_xticklabels(('Class 0', 'Class 1', 'Class 2'), rotation='horizontal')\n",
        "ax.set_title('Distribution of New York and Toronto Venues according to Classification')\n",
        "plt.show()"
      ],
      "execution_count": 30,
      "outputs": [
        {
          "output_type": "stream",
          "text": [
            "/usr/local/lib/python3.6/dist-packages/pandas/plotting/_core.py:1716: UserWarning: Pandas doesn't allow columns to be created via a new attribute name - see https://pandas.pydata.org/pandas-docs/stable/indexing.html#attribute-access\n",
            "  series.name = label\n"
          ],
          "name": "stderr"
        },
        {
          "output_type": "display_data",
          "data": {
            "image/png": "[encoded data removed]",
            "text/plain": [
              "<matplotlib.figure.Figure at 0x7ff96273a400>"
            ]
          },
          "metadata": {
            "tags": []
          }
        }
      ]
    },
    {
      "metadata": {
        "id": "AGfX_GZD5nyh",
        "colab_type": "code",
        "outputId": "c2286e28-dbce-48bd-cef9-e8b4e0ff4ce4",
        "colab": {
          "base_uri": "https://localhost:8080/",
          "height": 404
        }
      },
      "cell_type": "code",
      "source": [
        "# plot histogram of New York's and Toronto's neighborhood scores\n",
        "\n",
        "fig, (ax1, ax2) = plt.subplots(ncols=2, figsize=(15, 6))\n",
        "ax1.hist(newyork_grouped['Score'], bins=np.arange(0, 10.5, 0.5), ec='black', color='#7570b3')\n",
        "ax1.set_xticks(range(0, 11))\n",
        "ax1.set_ylim(top=55)\n",
        "ax1.set_xlabel('Score Values')\n",
        "ax1.set_ylabel('Number of Neighborhoods')\n",
        "ax1.set_title('Distribution of New York\\'s Neighborhood Scores')\n",
        "ax2.hist(toronto_grouped['Score'], bins=np.arange(0, 10.5, 0.5), ec='black', color='#d95f02')\n",
        "ax2.set_xticks(range(0, 11))\n",
        "ax2.set_ylim(top=55)\n",
        "ax2.set_xlabel('Score Values')\n",
        "ax2.set_ylabel('Number of Neighborhoods')\n",
        "ax2.set_title('Distribution of Toronto\\'s Neighborhood Scores')\n",
        "plt.show()"
      ],
      "execution_count": 32,
      "outputs": [
        {
          "output_type": "display_data",
          "data": {
            "image/png": "[encoded data removed]",
            "text/plain": [
              "<matplotlib.figure.Figure at 0x7ff962631d68>"
            ]
          },
          "metadata": {
            "tags": []
          }
        }
      ]
    },
    {
      "metadata": {
        "id": "Elp3SWbQ71KC",
        "colab_type": "code",
        "outputId": "cf50f7a3-821c-47e3-a6f9-2ee56bdf5f15",
        "colab": {
          "base_uri": "https://localhost:8080/",
          "height": 34
        }
      },
      "cell_type": "code",
      "source": [
        "# compute New York's neighborhood scores' mean and st. d.\n",
        "\n",
        "newyork_grouped['Score'].mean(), newyork_grouped['Score'].std()"
      ],
      "execution_count": 33,
      "outputs": [
        {
          "output_type": "execute_result",
          "data": {
            "text/plain": [
              "(2.4271433392331256, 1.4050713537141133)"
            ]
          },
          "metadata": {
            "tags": []
          },
          "execution_count": 33
        }
      ]
    },
    {
      "metadata": {
        "id": "-Lv6FHL89Sqa",
        "colab_type": "code",
        "outputId": "a73163e7-87e2-41de-d6a9-51b9d8bf34c6",
        "colab": {
          "base_uri": "https://localhost:8080/",
          "height": 34
        }
      },
      "cell_type": "code",
      "source": [
        "# compute Toronto's neighborhood scores' mean and st. d.\n",
        "\n",
        "toronto_grouped['Score'].mean(), toronto_grouped['Score'].std()"
      ],
      "execution_count": 34,
      "outputs": [
        {
          "output_type": "execute_result",
          "data": {
            "text/plain": [
              "(2.620252587479701, 1.57355467736594)"
            ]
          },
          "metadata": {
            "tags": []
          },
          "execution_count": 34
        }
      ]
    },
    {
      "metadata": {
        "id": "TRpjCJOj_Ggr",
        "colab_type": "code",
        "outputId": "98e1918f-e92d-4e61-a443-09facc6e35f0",
        "colab": {
          "base_uri": "https://localhost:8080/",
          "height": 414
        }
      },
      "cell_type": "code",
      "source": [
        "# plot count of suitable/not suitable neighborhoods per city\n",
        "\n",
        "newyork_count = newyork_scores[['Neighbourhood', 'Suitability']].groupby('Suitability').count().reset_index()\n",
        "toronto_count = toronto_scores[['PostalCode', 'Suitability']].groupby('Suitability').count().reset_index()\n",
        "count = pd.merge(newyork_count, toronto_count, on='Suitability', suffixes=('', ''))\n",
        "ax = count.plot.bar(x='Suitability', y=['Neighbourhood', 'PostalCode'], color=['#7570b3','#d95f02','#1b9e77'])\n",
        "ax.set_xticklabels(('Not suitable', 'Suitable'), rotation='horizontal')\n",
        "ax.legend(['New York', 'Toronto'])\n",
        "plt.show()"
      ],
      "execution_count": 35,
      "outputs": [
        {
          "output_type": "stream",
          "text": [
            "/usr/local/lib/python3.6/dist-packages/pandas/plotting/_core.py:1716: UserWarning: Pandas doesn't allow columns to be created via a new attribute name - see https://pandas.pydata.org/pandas-docs/stable/indexing.html#attribute-access\n",
            "  series.name = label\n"
          ],
          "name": "stderr"
        },
        {
          "output_type": "display_data",
          "data": {
            "image/png": "[encoded data removed]",
            "text/plain": [
              "<matplotlib.figure.Figure at 0x7ff9624493c8>"
            ]
          },
          "metadata": {
            "tags": []
          }
        }
      ]
    },
    {
      "metadata": {
        "id": "UHTX1hkUNYpF",
        "colab_type": "code",
        "colab": {}
      },
      "cell_type": "code",
      "source": [
        "# get Toronto's coordinates for map\n",
        "\n",
        "address = 'Toronto, Canada'\n",
        "\n",
        "geolocator = Nominatim(user_agent='coursera-capstone-project')\n",
        "location = None\n",
        "while not location:\n",
        "  location = geolocator.geocode(address)\n",
        "latitude = location.latitude\n",
        "longitude = location.longitude"
      ],
      "execution_count": 0,
      "outputs": []
    },
    {
      "metadata": {
        "id": "G8cDbE57zdhm",
        "colab_type": "code",
        "colab": {}
      },
      "cell_type": "code",
      "source": [
        "# display Toronto's neighborhoods on map, with purple marker if suitable, red otherwise (true classification)\n",
        "\n",
        "map_toronto_true = folium.Map(location=[latitude, longitude], zoom_start=11)\n",
        "neighborhoods = zip(toronto_scores['Latitude'], toronto_scores['Longitude'], toronto_scores['Borough'], toronto_scores['Neighbourhood'], toronto_scores['Suitability'])\n",
        "\n",
        "for lat, lng, borough, neighborhood, score in neighborhoods:\n",
        "    label = '{}, {}'.format(neighborhood, borough)\n",
        "    label = folium.Popup(label)\n",
        "    color = 'purple' if score else 'red'\n",
        "    icon = 'thumbs-up' if score else 'thumbs-down'\n",
        "    marker = folium.Marker(location=[lat, lng], popup=label, icon=folium.Icon(icon=icon, color=color)).add_to(map_toronto_true)  \n",
        "    \n",
        "# map_toronto_true"
      ],
      "execution_count": 0,
      "outputs": []
    },
    {
      "metadata": {
        "id": "mTJ65-yc0oxW",
        "colab_type": "code",
        "colab": {}
      },
      "cell_type": "code",
      "source": [
        "# display Toronto's neighborhoods on map, with purple marker if suitable, red otherwise (predicted classification)\n",
        "\n",
        "map_toronto_pred = folium.Map(location=[latitude, longitude], zoom_start=11)\n",
        "neighborhoods = zip(toronto_scores['Latitude'], toronto_scores['Longitude'], toronto_scores['Borough'], toronto_scores['Neighbourhood'], yhat_T)\n",
        "\n",
        "for lat, lng, borough, neighborhood, score in neighborhoods:\n",
        "    label = '{}, {}'.format(neighborhood, borough)\n",
        "    label = folium.Popup(label)\n",
        "    color = 'purple' if score else 'red'\n",
        "    icon = 'thumbs-up' if score else 'thumbs-down'\n",
        "    marker = folium.Marker(location=[lat, lng], popup=label, icon=folium.Icon(icon=icon, color=color)).add_to(map_toronto_pred)  \n",
        "    \n",
        "# map_toronto_pred"
      ],
      "execution_count": 0,
      "outputs": []
    },
    {
      "metadata": {
        "id": "oC3XHFzDMyto",
        "colab_type": "code",
        "colab": {}
      },
      "cell_type": "code",
      "source": [
        "# compute New York's neighborhoods' suitability labels for varying score thresholds\n",
        "\n",
        "newyork_scores_mult = newyork_grouped[['Neighbourhood', 'Score']].copy()\n",
        "for i in np.arange(1,6.5,0.5):\n",
        "  label = str(i).replace('.', '_')\n",
        "  newyork_scores_mult['S_'+label] = newyork_scores_mult['Score'] > i\n",
        "  newyork_scores_mult['S_'+label] = newyork_scores_mult['S_'+label].apply(int)\n",
        "# newyork_scores_mult.head()"
      ],
      "execution_count": 0,
      "outputs": []
    },
    {
      "metadata": {
        "id": "jUao5mthDIv6",
        "colab_type": "code",
        "colab": {}
      },
      "cell_type": "code",
      "source": [
        "# compute Toronto's neighborhoods' suitability labels for varying score thresholds\n",
        "\n",
        "toronto_scores_mult = toronto_grouped[['PostalCode', 'Score']].copy()\n",
        "for i in np.arange(1, 6.5, 0.5):\n",
        "  label = 'S_' + str(i).replace('.', '_')\n",
        "  toronto_scores_mult[label] = toronto_scores_mult['Score'] > i\n",
        "  toronto_scores_mult[label] = toronto_scores_mult[label].apply(int)\n",
        "# toronto_scores_mult.head()"
      ],
      "execution_count": 0,
      "outputs": []
    },
    {
      "metadata": {
        "id": "W2tHbUEMDvPa",
        "colab_type": "code",
        "colab": {}
      },
      "cell_type": "code",
      "source": [
        "# train a model for each different score threshold with previously assigned labels, and record their accuracy\n",
        "\n",
        "# initiate metrics' dictionaries\n",
        "jaccard_indexes = {}\n",
        "log_losses = {}\n",
        "f1_scores = {}\n",
        "for i in np.arange(1, 6.5, 0.5):\n",
        "  # create label\n",
        "  label = 'S_' + str(i).replace('.', '_')\n",
        "  # prepare training data set\n",
        "  X_i_train = np.asarray(newyork_grouped[category_list])\n",
        "  y_i_train = np.asarray(newyork_scores_mult[label])\n",
        "  # fit model\n",
        "  model_i = LogisticRegression(C=0.3, solver='liblinear', random_state=0, class_weight='balanced').fit(X_i_train, y_i_train)\n",
        "  # prepare testing data set\n",
        "  X_i_test = np.asarray(toronto_grouped[category_list])\n",
        "  y_i_test = np.asarray(toronto_scores_mult[label])\n",
        "  # compute predictions\n",
        "  yhat_i = model_i.predict(X_i_test)\n",
        "  yhat_i_prob = model_i.predict_proba(X_i_test)\n",
        "  # compute and record metrics\n",
        "  jaccard_indexes[i] = jaccard_similarity_score(yhat_i, y_i_test)\n",
        "  log_losses[i] = log_loss(y_i_test, yhat_i_prob)\n",
        "  f1_scores[i] = f1_score(y_i_test, yhat_i)\n",
        "#   print(i, jaccard_indexes[i], log_losses[i], f1_scores[i])"
      ],
      "execution_count": 0,
      "outputs": []
    },
    {
      "metadata": {
        "id": "YlcySDh1FoJC",
        "colab_type": "code",
        "colab": {
          "base_uri": "https://localhost:8080/",
          "height": 404
        },
        "outputId": "8fdbf8c0-af05-4d26-fa33-bb8e02c5273a"
      },
      "cell_type": "code",
      "source": [
        "# plot metrics' variation against increasing suitability thresholds\n",
        "\n",
        "fig, axes = plt.subplots(1, 3, figsize=(20, 6))\n",
        "axes[0].plot(jaccard_indexes.keys(), [jaccard_indexes[key] for key in jaccard_indexes.keys()], color='purple')\n",
        "axes[0].set_xticks(np.arange(1, 6.5, 0.5))\n",
        "axes[0].set_xlabel('Suitability threshold')\n",
        "axes[0].set_ylabel('Jaccard index')\n",
        "axes[0].set_title('Model\\'s Jaccard index against suitability threshold')\n",
        "axes[1].plot(log_losses.keys(), [log_losses[key] for key in log_losses.keys()], color='purple')\n",
        "axes[1].set_xticks(np.arange(1, 6.5, 0.5))\n",
        "axes[1].set_xlabel('Suitability threshold')\n",
        "axes[1].set_ylabel('Log loss')\n",
        "axes[1].set_title('Model\\'s Log loss against suitability threshold')\n",
        "axes[2].plot(f1_scores.keys(), [f1_scores[key] for key in f1_scores.keys()], color='purple')\n",
        "axes[2].set_xticks(np.arange(1, 6.5, 0.5))\n",
        "axes[2].set_xlabel('Suitability threshold')\n",
        "axes[2].set_ylabel('F1 score')\n",
        "axes[2].set_title('Model\\'s F1 score against suitability threshold')\n",
        "plt.show()"
      ],
      "execution_count": 42,
      "outputs": [
        {
          "output_type": "display_data",
          "data": {
            "image/png": "[encoded data removed]",
            "text/plain": [
              "<matplotlib.figure.Figure at 0x7ff961f123c8>"
            ]
          },
          "metadata": {
            "tags": []
          }
        }
      ]
    }
  ]
}