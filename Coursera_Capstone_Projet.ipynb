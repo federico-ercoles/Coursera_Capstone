{
  "nbformat": 4,
  "nbformat_minor": 0,
  "metadata": {
    "colab": {
      "name": "Coursera Capstone Projet.ipynb",
      "version": "0.3.2",
      "provenance": [],
      "include_colab_link": true
    },
    "kernelspec": {
      "name": "python3",
      "display_name": "Python 3"
    }
  },
  "cells": [
    {
      "cell_type": "markdown",
      "metadata": {
        "id": "view-in-github",
        "colab_type": "text"
      },
      "source": [
        "<a href=\"https://colab.research.google.com/github/federico-ercoles/Coursera_Capstone/blob/master/Coursera_Capstone_Projet.ipynb\" target=\"_parent\"><img src=\"https://colab.research.google.com/assets/colab-badge.svg\" alt=\"Open In Colab\"/></a>"
      ]
    },
    {
      "metadata": {
        "id": "ashlDTuSKRu7",
        "colab_type": "text"
      },
      "cell_type": "markdown",
      "source": [
        "# Capstone Project"
      ]
    },
    {
      "metadata": {
        "id": "23OKXMAhKXWc",
        "colab_type": "text"
      },
      "cell_type": "markdown",
      "source": [
        "This project will contain my work for the Coursera's Data Science certificate's final project. "
      ]
    },
    {
      "metadata": {
        "id": "D8NeqW1_KF8b",
        "colab_type": "code",
        "colab": {}
      },
      "cell_type": "code",
      "source": [
        "import pandas as pd\n",
        "import numpy as np"
      ],
      "execution_count": 0,
      "outputs": []
    },
    {
      "metadata": {
        "id": "ILe_AFc5KvRa",
        "colab_type": "code",
        "colab": {
          "base_uri": "https://localhost:8080/",
          "height": 34
        },
        "outputId": "81342c0f-8133-470b-9fad-502cfa105494"
      },
      "cell_type": "code",
      "source": [
        "print('Hello Capstone Project Course!')"
      ],
      "execution_count": 2,
      "outputs": [
        {
          "output_type": "stream",
          "text": [
            "Hello Capstone Project Course!\n"
          ],
          "name": "stdout"
        }
      ]
    }
  ]
}